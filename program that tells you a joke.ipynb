{
 "cells": [
  {
   "cell_type": "code",
   "execution_count": null,
   "metadata": {},
   "outputs": [
    {
     "data": {
      "text/plain": [
       "Q. What animal has the whiskers of a cat, fur of a cat, a tail of a cat, ears of a cat, but is not a cat?\n",
       "\n",
       "A. The animal is a kitten!\n"
      ]
     },
     "metadata": {},
     "output_type": "display_data"
    }
   ],
   "source": [
    "import Joking\n",
    "Joke=Joking.animal_joke()\n",
    "import pyttsx3\n",
    "engine = pyttsx3.init()\n",
    "\n",
    "engine.say(Joke)\n",
    "engine.runAndWait()\n",
    "print(Joke)\n",
    "\n"
   ]
  },
  {
   "cell_type": "code",
   "execution_count": null,
   "metadata": {},
   "outputs": [],
   "source": []
  }
 ],
 "metadata": {
  "language_info": {
   "name": "python"
  }
 },
 "nbformat": 4,
 "nbformat_minor": 2
}
